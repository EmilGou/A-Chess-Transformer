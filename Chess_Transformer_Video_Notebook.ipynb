{
 "cells": [
  {
   "cell_type": "code",
   "execution_count": 1,
   "metadata": {},
   "outputs": [],
   "source": [
    "from dataclasses import dataclass\n",
    "import torch.nn as nn\n",
    "import torch\n",
    "from torch.nn import functional as F\n",
    "\n",
    "@dataclass\n",
    "class ChessBertConfig:\n",
    "    vocab_size: int = 117\n",
    "    block_size: int = 87\n",
    "    n_layers: int = 4\n",
    "    n_heads: int = 4\n",
    "    n_embd: int = 512\n",
    "    n_labels: int = 1971\n",
    "    ffn_size: int = 2048\n",
    "\n",
    "class ChessBertModel(nn.Module):\n",
    "    def __init__(self, config: ChessBertConfig):\n",
    "        super().__init__()\n",
    "        self.token_embeddings = nn.Embedding(config.vocab_size, config.n_embd)\n",
    "        self.position_embeddings = nn.Embedding(config.block_size, config.n_embd)\n",
    "        self.encoder = nn.TransformerEncoder(nn.TransformerEncoderLayer(config.n_embd,\n",
    "                                                                        config.n_heads, \n",
    "                                                                        config.ffn_size, \n",
    "                                                                        norm_first=True,\n",
    "                                                                        batch_first=True,\n",
    "                                                                        activation = F.gelu), config.n_layers) \n",
    "        self.layer_norm = nn.LayerNorm(config.n_embd)\n",
    "        self.classifier = nn.Linear(config.n_embd, config.n_labels)\n",
    "\n",
    "    def forward(self, x, targets=None, attention_masks = None):\n",
    "        x = self.token_embeddings(x) + self.position_embeddings(torch.arange(x.size(1), device=x.device))\n",
    "        x = self.encoder(x, src_key_padding_mask=attention_masks)\n",
    "        x = self.layer_norm(x)\n",
    "        logits = self.classifier(x[:, 0, :]) #extracts logits of [CLS] token\n",
    "\n",
    "        if targets is not None:\n",
    "            criterion = nn.CrossEntropyLoss()\n",
    "            loss = criterion(logits.view(-1, self.config.n_labels), targets.view(-1))\n",
    "            return loss, logits\n",
    "        else:\n",
    "            return logits"
   ]
  }
 ],
 "metadata": {
  "kernelspec": {
   "display_name": "base",
   "language": "python",
   "name": "python3"
  },
  "language_info": {
   "codemirror_mode": {
    "name": "ipython",
    "version": 3
   },
   "file_extension": ".py",
   "mimetype": "text/x-python",
   "name": "python",
   "nbconvert_exporter": "python",
   "pygments_lexer": "ipython3",
   "version": "3.10.8"
  }
 },
 "nbformat": 4,
 "nbformat_minor": 2
}
